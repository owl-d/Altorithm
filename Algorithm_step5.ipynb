{
  "nbformat": 4,
  "nbformat_minor": 0,
  "metadata": {
    "colab": {
      "name": "Algorithm_step5.ipynb",
      "provenance": [],
      "collapsed_sections": [],
      "authorship_tag": "ABX9TyMiauIHjD2kfM1JsyhfZ080",
      "include_colab_link": true
    },
    "kernelspec": {
      "name": "python3",
      "display_name": "Python 3"
    },
    "language_info": {
      "name": "python"
    }
  },
  "cells": [
    {
      "cell_type": "markdown",
      "metadata": {
        "id": "view-in-github",
        "colab_type": "text"
      },
      "source": [
        "<a href=\"https://colab.research.google.com/github/owl-d/Altorithm/blob/main/Algorithm_step5.ipynb\" target=\"_parent\"><img src=\"https://colab.research.google.com/assets/colab-badge.svg\" alt=\"Open In Colab\"/></a>"
      ]
    },
    {
      "cell_type": "markdown",
      "metadata": {
        "id": "XaQ9W7-fskNz"
      },
      "source": [
        "1차원 배열"
      ]
    },
    {
      "cell_type": "code",
      "metadata": {
        "id": "nYP-9q98soU5"
      },
      "source": [
        "#10818 : 최소, 최대\n",
        "#N개의 정수가 주어진다. 이때, 최솟값과 최댓값을 구하는 프로그램을 작성하시오.\n",
        "\n",
        "import sys\n",
        "\n",
        "n = int(input())\n",
        "\n",
        "data = sys.stdin.readline().split()\n",
        "data = [int(i) for i in data]\n",
        "\n",
        "min = data[0]\n",
        "max = data[0]\n",
        "\n",
        "for i in range(n-1) :\n",
        "  if (min > data[i+1]):\n",
        "    min = data[i+1]\n",
        "  elif (max < data[i+1]) :\n",
        "    max = data[i+1]\n",
        "\n",
        "print(min, max)"
      ],
      "execution_count": null,
      "outputs": []
    },
    {
      "cell_type": "code",
      "metadata": {
        "id": "rTppG5UV5AV7"
      },
      "source": [
        "#2562 : 최댓값\n",
        "#9개의 서로 다른 자연수가 주어질 때, 이들 중 최댓값을 찾고 그 최댓값이 몇 번째 수인지를 구하는 프로그램을 작성하시오.\n",
        "\n",
        "import sys\n",
        "\n",
        "data = [sys.stdin.readline().rstrip() for i in range(9)]\n",
        "data = [int(i) for i in data]\n",
        "\n",
        "max = data[0]\n",
        "n = 1kk\n",
        "\n",
        "for i in range(8):\n",
        "  if (max < data[i+1]):\n",
        "    max = data[i+1]\n",
        "    n = i+2\n",
        "\n",
        "print(max)\n",
        "print(n)"
      ],
      "execution_count": null,
      "outputs": []
    },
    {
      "cell_type": "code",
      "metadata": {
        "id": "cOJil_7A9uqk"
      },
      "source": [
        "#2577 : 숫자의 개수\n",
        "#세 개의 자연수 A, B, C가 주어질 때 A × B × C를 계산한 결과에 0부터 9까지 각각의 숫자가 몇 번씩 쓰였는지를 구하는 프로그램을 작성하시오.\n",
        "\n",
        "#numpy 쓰면 런타임 에러가 뜨네\n",
        "\n",
        "import sys\n",
        "\n",
        "data = [sys.stdin.readline().rstrip() for i in range(3)]\n",
        "data = [int(i) for i in data]\n",
        "\n",
        "a = data[0] * data[1] * data[2]\n",
        "\n",
        "num = [0, 0, 0, 0, 0, 0, 0, 0, 0, 0]\n",
        "\n",
        "for i in map(int, str(a)):\n",
        "  num[i] += 1\n",
        "\n",
        "for i in num:\n",
        "  print(i)"
      ],
      "execution_count": null,
      "outputs": []
    },
    {
      "cell_type": "code",
      "metadata": {
        "id": "_jJt7D-FEWo-"
      },
      "source": [
        "#3052 : 나머지\n",
        "#수 10개를 입력받은 뒤, 이를 42로 나눈 나머지를 구한다. 그 다음 서로 다른 값이 몇 개 있는지 출력하는 프로그램을 작성하시오.\n",
        "\n",
        "import sys\n",
        "\n",
        "data = [sys.stdin.readline().rstrip() for i in range(10)]\n",
        "data = [int(i)%42 for i in data]\n",
        "\n",
        "num=1\n",
        "\n",
        "for i in range(9):\n",
        "  a=0\n",
        "  for j in range(i+1):\n",
        "    if data[i+1] == data[j]:\n",
        "      a = 1\n",
        "  if a!=1:\n",
        "    num += 1\n",
        "\n",
        "print(num)"
      ],
      "execution_count": null,
      "outputs": []
    },
    {
      "cell_type": "code",
      "metadata": {
        "id": "I2nTEF-MK7lF"
      },
      "source": [
        "#1546 : 평균\n",
        "\n",
        "#세준이는 자기 점수 중에 최댓값을 골랐다. 이 값을 M이라고 한다. 그리고 나서 모든 점수를 점수/M*100으로 고쳤다.\n",
        "#예를 들어, 세준이의 최고점이 70이고, 수학점수가 50이었으면 수학점수는 50/70*100이 되어 71.43점이 된다.\n",
        "#세준이의 성적을 위의 방법대로 새로 계산했을 때, 새로운 평균을 구하는 프로그램을 작성하시오.\n",
        "\n",
        "import sys\n",
        "\n",
        "n = int(input())\n",
        "data = sys.stdin.readline().split()\n",
        "data = [int(i) for i in data]\n",
        "\n",
        "max = data[0]\n",
        "for i in range(n):\n",
        "  if max < data[i]:\n",
        "    max = data[i]\n",
        "\n",
        "data = [i/max*100 for i in data]\n",
        "\n",
        "sum = 0\n",
        "for i in data:\n",
        "  sum += i\n",
        "\n",
        "print(sum/n)"
      ],
      "execution_count": null,
      "outputs": []
    },
    {
      "cell_type": "code",
      "metadata": {
        "id": "MAJMnpAaM9dT"
      },
      "source": [
        "#8959 : OX 퀴즈\n",
        "\n",
        "#\"OOXXOXXOOO\"와 같은 OX퀴즈의 결과가 있다. O는 문제를 맞은 것이고, X는 문제를 틀린 것이다. 문제를 맞은 경우 그 문제의 점수는 그 문제까지 연속된 O의 개수가 된다. 예를 들어, 10번 문제의 점수는 3이 된다.\n",
        "#\"OOXXOXXOOO\"의 점수는 1+2+0+0+1+0+0+1+2+3 = 10점이다.\n",
        "#OX퀴즈의 결과가 주어졌을 때, 점수를 구하는 프로그램을 작성하시오.\n",
        "\n",
        "import sys\n",
        "\n",
        "n = int(input())\n",
        "data = [sys.stdin.readline().rstrip() for i in range(n)]\n",
        "\n",
        "\n",
        "for i in data:\n",
        "  score = 0\n",
        "  sum = 0\n",
        "\n",
        "  a = len(i)\n",
        "  result = list(i)\n",
        "  \n",
        "  for j in range(a):\n",
        "    if result[j] == 'X':\n",
        "      score = 0\n",
        "    else :\n",
        "      score += 1\n",
        "      sum += score\n",
        "\n",
        "  print(sum)"
      ],
      "execution_count": null,
      "outputs": []
    },
    {
      "cell_type": "code",
      "metadata": {
        "id": "J97_jFNMSfWp"
      },
      "source": [
        "#4344 : 평균은 넘겠지\n",
        "\n",
        "#첫째 줄에는 테스트 케이스의 개수 C가 주어진다.\n",
        "#둘째 줄부터 각 테스트 케이스마다 학생의 수 N이 첫 수로 주어지고, 이어서 N명의 점수가 주어진다. 점수는 0보다 크거나 같고, 100보다 작거나 같은 정수이다.\n",
        "\n",
        "#반올림 하는 방법은 round 함수와 format 이 있는데, round는 셋째짜리까지 출력하라고 지정해도 40.000이 아닌 40.0이 나온다는 단점이 있다.\n",
        "import sys\n",
        "\n",
        "n = int(input())\n",
        "data = [sys.stdin.readline().rstrip() for i in range(n)]\n",
        "\n",
        "for i in data:\n",
        "  a = i.split()\n",
        "  a = [int(i) for i in a]\n",
        "  \n",
        "  sum = 0\n",
        "  student = 0\n",
        "  \n",
        "  for j in range(a[0]): #총합 구하기\n",
        "    sum += a[j+1]\n",
        "\n",
        "  for j in range(a[0]): #평균 넘는 학생 수 구하기\n",
        "    if (a[j+1] > sum/a[0]):\n",
        "      student += 1\n",
        "  \n",
        "  rat = student/a[0]*100\n",
        "  print('{:.3f}%'.format(rat))"
      ],
      "execution_count": null,
      "outputs": []
    }
  ]
}