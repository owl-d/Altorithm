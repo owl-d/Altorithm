{
  "nbformat": 4,
  "nbformat_minor": 0,
  "metadata": {
    "colab": {
      "name": "Algorithm_step1.ipynb",
      "provenance": [],
      "collapsed_sections": [],
      "authorship_tag": "ABX9TyO/zUk7+biYBHPQMuZ95vtV",
      "include_colab_link": true
    },
    "kernelspec": {
      "name": "python3",
      "display_name": "Python 3"
    },
    "language_info": {
      "name": "python"
    }
  },
  "cells": [
    {
      "cell_type": "markdown",
      "metadata": {
        "id": "view-in-github",
        "colab_type": "text"
      },
      "source": [
        "<a href=\"https://colab.research.google.com/github/owl-d/Altorithm/blob/main/Algorithm_step1.ipynb\" target=\"_parent\"><img src=\"https://colab.research.google.com/assets/colab-badge.svg\" alt=\"Open In Colab\"/></a>"
      ]
    },
    {
      "cell_type": "markdown",
      "metadata": {
        "id": "SqVBuekAVEwB"
      },
      "source": [
        "1단계 : 입출력과 사칙연산"
      ]
    },
    {
      "cell_type": "code",
      "metadata": {
        "colab": {
          "base_uri": "https://localhost:8080/"
        },
        "id": "xonCcB-PLKG7",
        "outputId": "03648016-43e7-4829-feff-270b323b94f3"
      },
      "source": [
        "#2557\n",
        "print(\"Hello World\")\n",
        "\n",
        "#10718\n",
        "print(\"강한친구 대한육군\\n강한친구 대한육군\")"
      ],
      "execution_count": 1,
      "outputs": [
        {
          "output_type": "stream",
          "text": [
            "Hello World\n",
            "강한친구 대한육군\n",
            "강한친구 대한육군\n"
          ],
          "name": "stdout"
        }
      ]
    },
    {
      "cell_type": "code",
      "metadata": {
        "colab": {
          "base_uri": "https://localhost:8080/"
        },
        "id": "-m1tNP6wMXhN",
        "outputId": "3f804552-2c8b-4875-de9f-be3f6b5a3bcd"
      },
      "source": [
        "#10171\n",
        "multi=\"\"\"\\\\    /\\\\ \n",
        " )  ( ')\n",
        "(  /  )\n",
        " \\\\(__)|\"\"\"\n",
        "\n",
        "print(multi)"
      ],
      "execution_count": 2,
      "outputs": [
        {
          "output_type": "stream",
          "text": [
            "\\    /\\ \n",
            " )  ( ')\n",
            "(  /  )\n",
            " \\(__)|\n"
          ],
          "name": "stdout"
        }
      ]
    },
    {
      "cell_type": "code",
      "metadata": {
        "colab": {
          "base_uri": "https://localhost:8080/"
        },
        "id": "ON5BCt7FTzNh",
        "outputId": "21c72097-3506-439d-84f3-3c8949aa6ab4"
      },
      "source": [
        "#10172\n",
        "print('''|\\\\_/|\n",
        "|q p|   /}\n",
        "( 0 )\"\"\"\\\\\n",
        "|\"^\"`    |\n",
        "||_/=\\\\\\\\__|''')"
      ],
      "execution_count": 3,
      "outputs": [
        {
          "output_type": "stream",
          "text": [
            "|\\_/|\n",
            "|q p|   /}\n",
            "( 0 )\"\"\"\\\n",
            "|\"^\"`    |\n",
            "||_/=\\\\__|\n"
          ],
          "name": "stdout"
        }
      ]
    },
    {
      "cell_type": "code",
      "metadata": {
        "colab": {
          "base_uri": "https://localhost:8080/"
        },
        "id": "_DUoRpiXaby0",
        "outputId": "a591c783-6d06-47ec-c633-58342560fe8b"
      },
      "source": [
        "#1000\n",
        "c = input()\n",
        "print(int(c[:1])+int(c[-2:]))"
      ],
      "execution_count": 4,
      "outputs": [
        {
          "output_type": "stream",
          "text": [
            "123\n",
            "24\n"
          ],
          "name": "stdout"
        }
      ]
    },
    {
      "cell_type": "code",
      "metadata": {
        "colab": {
          "base_uri": "https://localhost:8080/"
        },
        "id": "37HfsC7NdW2K",
        "outputId": "97400745-fa72-4b4b-b7b4-e013469a7797"
      },
      "source": [
        "#10869\n",
        "a, b = map(int, input().split())\n",
        "print(a+b)\n",
        "print(a-b)\n",
        "print(a*b)\n",
        "print(a//b)\n",
        "print(a%b)"
      ],
      "execution_count": 5,
      "outputs": [
        {
          "output_type": "stream",
          "text": [
            "10 20\n",
            "30\n",
            "-10\n",
            "200\n",
            "0\n",
            "10\n"
          ],
          "name": "stdout"
        }
      ]
    },
    {
      "cell_type": "code",
      "metadata": {
        "colab": {
          "base_uri": "https://localhost:8080/"
        },
        "id": "GA_e-cjdhONI",
        "outputId": "1a8654c2-d2a1-473d-d7f1-4bb6ce425561"
      },
      "source": [
        "#10430\n",
        "A, B, C = map(int, input().split())\n",
        "print((A+B)%C)\n",
        "print(((A%C) + (B%C))%C)\n",
        "print((A*B)%C)\n",
        "print(((A%C) * (B%C))%C)"
      ],
      "execution_count": 6,
      "outputs": [
        {
          "output_type": "stream",
          "text": [
            "5 8 4\n",
            "1\n",
            "1\n",
            "0\n",
            "0\n"
          ],
          "name": "stdout"
        }
      ]
    },
    {
      "cell_type": "code",
      "metadata": {
        "colab": {
          "base_uri": "https://localhost:8080/"
        },
        "id": "cmGHEOGciS-z",
        "outputId": "df59d4e9-c676-4425-dd32-39d4c4df2dd5"
      },
      "source": [
        "#2588\n",
        "a = int(input())\n",
        "b = input()\n",
        "\n",
        "one = a*int(b[-1:])\n",
        "ten = a*int(b[1:2])\n",
        "hud = a*int(b[:1])\n",
        "\n",
        "print(one)\n",
        "print(ten)\n",
        "print(hud)\n",
        "print(one+ten*10+hud*100)"
      ],
      "execution_count": 7,
      "outputs": [
        {
          "output_type": "stream",
          "text": [
            "472\n",
            "835\n",
            "2360\n",
            "1416\n",
            "3776\n",
            "394120\n"
          ],
          "name": "stdout"
        }
      ]
    }
  ]
}