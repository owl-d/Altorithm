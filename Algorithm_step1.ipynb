{
  "nbformat": 4,
  "nbformat_minor": 0,
  "metadata": {
    "colab": {
      "name": "Algorithm_step1.ipynb",
      "provenance": [],
      "collapsed_sections": [],
      "authorship_tag": "ABX9TyO/qUGz9w3sFtWVJQAIj9/a",
      "include_colab_link": true
    },
    "kernelspec": {
      "name": "python3",
      "display_name": "Python 3"
    },
    "language_info": {
      "name": "python"
    }
  },
  "cells": [
    {
      "cell_type": "markdown",
      "metadata": {
        "id": "view-in-github",
        "colab_type": "text"
      },
      "source": [
        "<a href=\"https://colab.research.google.com/github/owl-d/Altorithm/blob/main/Algorithm_step1.ipynb\" target=\"_parent\"><img src=\"https://colab.research.google.com/assets/colab-badge.svg\" alt=\"Open In Colab\"/></a>"
      ]
    },
    {
      "cell_type": "code",
      "metadata": {
        "colab": {
          "base_uri": "https://localhost:8080/"
        },
        "id": "xonCcB-PLKG7",
        "outputId": "49d0f3f7-7441-4ea2-e410-238e0868aecf"
      },
      "source": [
        "#2557\n",
        "print(\"Hello World\")\n",
        "\n",
        "#10718\n",
        "print(\"강한친구 대한육군\\n강한친구 대한육군\")"
      ],
      "execution_count": null,
      "outputs": [
        {
          "output_type": "stream",
          "text": [
            "Hello World\n",
            "강한친구 대한육군\n",
            "강한친구 대한육군\n"
          ],
          "name": "stdout"
        }
      ]
    },
    {
      "cell_type": "code",
      "metadata": {
        "colab": {
          "base_uri": "https://localhost:8080/"
        },
        "id": "-m1tNP6wMXhN",
        "outputId": "1a23348b-57fe-49b7-c809-1f26cbde207a"
      },
      "source": [
        "#10171\n",
        "multi=\"\"\"\\\\    /\\\\ \n",
        " )  ( ')\n",
        "(  /  )\n",
        " \\\\(__)|\"\"\"\n",
        "\n",
        "print(multi)"
      ],
      "execution_count": null,
      "outputs": [
        {
          "output_type": "stream",
          "text": [
            "\\    /\\ \n",
            " )  ( ')\n",
            "(  /  )\n",
            " \\(__)|\n"
          ],
          "name": "stdout"
        }
      ]
    },
    {
      "cell_type": "code",
      "metadata": {
        "colab": {
          "base_uri": "https://localhost:8080/"
        },
        "id": "ON5BCt7FTzNh",
        "outputId": "a932b51a-8da2-4d51-ebbc-4bc6ade875af"
      },
      "source": [
        "#10172\n",
        "print('''|\\\\_/|\n",
        "|q p|   /}\n",
        "( 0 )\"\"\"\\\\\n",
        "|\"^\"`    |\n",
        "||_/=\\\\\\\\__|''')"
      ],
      "execution_count": null,
      "outputs": [
        {
          "output_type": "stream",
          "text": [
            "|\\_/|\n",
            "|q p|   /}\n",
            "( 0 )\"\"\"\\\n",
            "|\"^\"`    |\n",
            "||_/=\\\\__|\n"
          ],
          "name": "stdout"
        }
      ]
    },
    {
      "cell_type": "code",
      "metadata": {
        "colab": {
          "base_uri": "https://localhost:8080/"
        },
        "id": "_DUoRpiXaby0",
        "outputId": "92fc12a9-c2a2-44db-ed32-75e9593fb051"
      },
      "source": [
        "#1000\n",
        "c = input()\n",
        "print(int(c[:1])+int(c[-2:]))"
      ],
      "execution_count": null,
      "outputs": [
        {
          "output_type": "stream",
          "text": [
            "1 2\n",
            "3\n"
          ],
          "name": "stdout"
        }
      ]
    },
    {
      "cell_type": "code",
      "metadata": {
        "colab": {
          "base_uri": "https://localhost:8080/"
        },
        "id": "37HfsC7NdW2K",
        "outputId": "c975abec-374c-4e53-a919-5435941d8f2a"
      },
      "source": [
        "#10869\n",
        "a, b = map(int, input().split())\n",
        "print(a+b)\n",
        "print(a-b)\n",
        "print(a*b)\n",
        "print(a//b)\n",
        "print(a%b)"
      ],
      "execution_count": null,
      "outputs": [
        {
          "output_type": "stream",
          "text": [
            "10 20\n",
            "30\n",
            "-10\n",
            "200\n",
            "0\n",
            "10\n"
          ],
          "name": "stdout"
        }
      ]
    },
    {
      "cell_type": "code",
      "metadata": {
        "colab": {
          "base_uri": "https://localhost:8080/"
        },
        "id": "GA_e-cjdhONI",
        "outputId": "c02ce3d8-f131-4315-b3e9-19e74ccc4030"
      },
      "source": [
        "#10430\n",
        "A, B, C = map(int, input().split())\n",
        "print((A+B)%C)\n",
        "print(((A%C) + (B%C))%C)\n",
        "print((A*B)%C)\n",
        "print(((A%C) * (B%C))%C)"
      ],
      "execution_count": null,
      "outputs": [
        {
          "output_type": "stream",
          "text": [
            "5 8 4\n",
            "1\n",
            "1\n",
            "0\n",
            "0\n"
          ],
          "name": "stdout"
        }
      ]
    },
    {
      "cell_type": "code",
      "metadata": {
        "colab": {
          "base_uri": "https://localhost:8080/"
        },
        "id": "cmGHEOGciS-z",
        "outputId": "b213b58c-34d2-44d7-c913-4c145e28c8bb"
      },
      "source": [
        "#2588\n",
        "a = int(input())\n",
        "b = input()\n",
        "\n",
        "one = a*int(b[-1:])\n",
        "ten = a*int(b[1:2])\n",
        "hud = a*int(b[:1])\n",
        "\n",
        "print(one)\n",
        "print(ten)\n",
        "print(hud)\n",
        "print(one+ten*10+hud*100)"
      ],
      "execution_count": null,
      "outputs": [
        {
          "output_type": "stream",
          "text": [
            "472\n",
            "385\n",
            "2360\n",
            "3776\n",
            "1416\n",
            "181720\n"
          ],
          "name": "stdout"
        }
      ]
    }
  ]
}