{
  "nbformat": 4,
  "nbformat_minor": 0,
  "metadata": {
    "colab": {
      "name": "Algorithm_step3.ipynb",
      "provenance": [],
      "collapsed_sections": [],
      "authorship_tag": "ABX9TyOh6lvXYDdkvT/7oLz0vu1I",
      "include_colab_link": true
    },
    "kernelspec": {
      "name": "python3",
      "display_name": "Python 3"
    },
    "language_info": {
      "name": "python"
    }
  },
  "cells": [
    {
      "cell_type": "markdown",
      "metadata": {
        "id": "view-in-github",
        "colab_type": "text"
      },
      "source": [
        "<a href=\"https://colab.research.google.com/github/owl-d/Altorithm/blob/main/Algorithm_step3.ipynb\" target=\"_parent\"><img src=\"https://colab.research.google.com/assets/colab-badge.svg\" alt=\"Open In Colab\"/></a>"
      ]
    },
    {
      "cell_type": "markdown",
      "metadata": {
        "id": "cyB49efiCIJ8"
      },
      "source": [
        "step3 : for문"
      ]
    },
    {
      "cell_type": "code",
      "metadata": {
        "colab": {
          "base_uri": "https://localhost:8080/"
        },
        "id": "P9fidiJbCFEr",
        "outputId": "26acd041-4254-4d47-949c-ba221b862df5"
      },
      "source": [
        "#2739 : 구구단\n",
        "#N을 입력받은 뒤, 구구단 N단을 출력하는 프로그램을 작성하시오.\n",
        "\n",
        "n = int(input())\n",
        "\n",
        "for i in range(1,10) :\n",
        "  print(n, '*', i, '=', n*i)"
      ],
      "execution_count": null,
      "outputs": [
        {
          "output_type": "stream",
          "text": [
            "2\n",
            "2 * 1 = 2\n",
            "2 * 2 = 4\n",
            "2 * 3 = 6\n",
            "2 * 4 = 8\n",
            "2 * 5 = 10\n",
            "2 * 6 = 12\n",
            "2 * 7 = 14\n",
            "2 * 8 = 16\n",
            "2 * 9 = 18\n"
          ],
          "name": "stdout"
        }
      ]
    },
    {
      "cell_type": "code",
      "metadata": {
        "colab": {
          "base_uri": "https://localhost:8080/"
        },
        "id": "F5l4pXu9C4Od",
        "outputId": "f9d8f5ff-c95e-427e-dfe8-fc2ccf692ccb"
      },
      "source": [
        "#10950 : A + B 출력\n",
        "\n",
        "n = int(input())\n",
        "a = []\n",
        "b = []\n",
        "\n",
        "for i in range(n) :\n",
        "  c,d = map(int, input().split())\n",
        "  a.append(c)\n",
        "  b.append(d)\n",
        "for i in range(n) :\n",
        "  print(a[i]+b[i])"
      ],
      "execution_count": null,
      "outputs": [
        {
          "output_type": "stream",
          "text": [
            "3\n",
            "1 2\n",
            "3 4\n",
            "5 6\n",
            "3\n",
            "7\n",
            "11\n"
          ],
          "name": "stdout"
        }
      ]
    },
    {
      "cell_type": "code",
      "metadata": {
        "colab": {
          "base_uri": "https://localhost:8080/"
        },
        "id": "vwlXubI2mzJg",
        "outputId": "4b1d5414-f70a-4b55-8421-b15357488eb1"
      },
      "source": [
        "#8393 : 합 : n이 주어졌을 때, 1부터 n까지 합을 구하는 프로그램을 작성하시오.\n",
        "\n",
        "n = int(input())\n",
        "sum = 0\n",
        "\n",
        "for i in range(n+1):\n",
        "  sum += int(i)\n",
        "print(sum)"
      ],
      "execution_count": null,
      "outputs": [
        {
          "output_type": "stream",
          "text": [
            "3\n",
            "6\n"
          ],
          "name": "stdout"
        }
      ]
    },
    {
      "cell_type": "code",
      "metadata": {
        "id": "cUOc0cnynZHs"
      },
      "source": [
        "#15552 : 빠른 A + B\n",
        "#Python을 사용하고 있다면, input 대신 sys.stdin.readline을 사용할 수 있다.\n",
        "#단, 이때는 맨 끝의 개행문자까지 같이 입력받기 때문에 문자열을 저장하고 싶을 경우 .rstrip()을 추가로 해 주는 것이 좋다.\n",
        "\n",
        "#코랩에서는 stdin.readline 입력이 안 되므로 replt 사용\n",
        "import sys\n",
        "\n",
        "\n",
        "n = int(input())\n",
        "data = [sys.stdin.readline().rstrip() for i in range(n)]\n",
        "\n",
        "for i in range(n):\n",
        "  a,b = map(int, data[i].split())\n",
        "  print(a+b)"
      ],
      "execution_count": null,
      "outputs": []
    },
    {
      "cell_type": "code",
      "metadata": {
        "colab": {
          "base_uri": "https://localhost:8080/"
        },
        "id": "Rxrg57ycwEFn",
        "outputId": "a14b1c67-a3ca-4726-eea5-6b1d30a1ebd6"
      },
      "source": [
        "#2741 : N 찍기 : 자연수 N이 주어졌을 때, 1부터 N까지 한 줄에 하나씩 출력하는 프로그램을 작성하시오.\n",
        "import sys\n",
        "\n",
        "n = int(sys.stdin.readline())\n",
        "for i in range(n):\n",
        "  print(i+1)"
      ],
      "execution_count": null,
      "outputs": [
        {
          "output_type": "stream",
          "text": [
            "\n"
          ],
          "name": "stdout"
        }
      ]
    },
    {
      "cell_type": "code",
      "metadata": {
        "id": "OIV9Hly4w3d3"
      },
      "source": [
        "#2742 : 기찍 N : 자연수 N이 주어졌을 때, N부터 1까지 한 줄에 하나씩 출력하는 프로그램을 작성하시오.\n",
        "import sys\n",
        "\n",
        "n = int(sys.stdin.readline())\n",
        "for i in range(n):\n",
        "  print(n-i)"
      ],
      "execution_count": null,
      "outputs": []
    },
    {
      "cell_type": "code",
      "metadata": {
        "id": "TajvQGCmxR_s"
      },
      "source": [
        "#11021 : A + B : 각 테스트 케이스마다 \"Case #x: \"를 출력한 다음, A+B를 출력한다. 테스트 케이스 번호는 1부터 시작한다.\n",
        "import sys\n",
        "\n",
        "n = int(input())\n",
        "data = [sys.stdin.readline().rstrip() for i in range(n)]\n",
        "\n",
        "for i in range(n):\n",
        "  a,b = map(int, data[i].split())\n",
        "  print(\"Case #\",i+1, \": \", a+b, sep='')"
      ],
      "execution_count": null,
      "outputs": []
    },
    {
      "cell_type": "code",
      "metadata": {
        "id": "FRwLDIIdyqe5"
      },
      "source": [
        "#11022 : A + B : 각 테스트 케이스마다 \"Case #x: A + B = C\" 형식으로 출력한다. x는 테스트 케이스 번호이고 1부터 시작하며, C는 A+B이다.\n",
        "import sys\n",
        "\n",
        "n = int(input())\n",
        "data = [sys.stdin.readline().rstrip() for i in range(n)]\n",
        "\n",
        "for i in range(n):\n",
        "  a,b = map(int, data[i].split())\n",
        "  print(\"Case #\",i+1, \": \", a, \" + \", b, \" = \", a+b, sep='')"
      ],
      "execution_count": null,
      "outputs": []
    },
    {
      "cell_type": "code",
      "metadata": {
        "id": "V2A1KzmPzHCt"
      },
      "source": [
        "#2438 : 별 찍기 - 1 : 첫째 줄에는 별 1개, 둘째 줄에는 별 2개, N번째 줄에는 별 N개를 찍는 문제\n",
        "\n",
        "n = int(input())\n",
        "\n",
        "for i in range(n):\n",
        "  for j in range(i+1):\n",
        "    print(\"*\", end='')\n",
        "  print(\"\")"
      ],
      "execution_count": null,
      "outputs": []
    },
    {
      "cell_type": "code",
      "metadata": {
        "id": "Spq1IOj80Nzr"
      },
      "source": [
        "#2439 : 별 찍기 - 2 : 오른쪽 정렬하여 첫째 줄에는 별 1개, 둘째 줄에는 별 2개, N번째 줄에는 별 N개를 찍는 문제\n",
        "\n",
        "n = int(input())\n",
        "\n",
        "for i in range(n):\n",
        "  for k in range(n-i-1):\n",
        "    print(\" \",end='')\n",
        "  for j in range(i+1):\n",
        "    print(\"*\", end='')\n",
        "  print(\"\")"
      ],
      "execution_count": null,
      "outputs": []
    },
    {
      "cell_type": "code",
      "metadata": {
        "id": "tVD7WuU51QYg"
      },
      "source": [
        "#10871 : X보다 작은 수\n",
        "#정수 N개로 이루어진 수열 A와 정수 X가 주어진다. 이때, A에서 X보다 작은 수를 모두 출력하는 프로그램을 작성하시오.\n",
        "\n",
        "import sys\n",
        "\n",
        "n, x = map(int,sys.stdin.readline().split())\n",
        "data = sys.stdin.readline().split()\n",
        "\n",
        "for i in range(n):\n",
        "  if (x>int(data[i])) :\n",
        "    print(int(data[i]), end=' ')"
      ],
      "execution_count": null,
      "outputs": []
    }
  ]
}