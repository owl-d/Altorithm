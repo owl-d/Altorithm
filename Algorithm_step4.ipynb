{
  "nbformat": 4,
  "nbformat_minor": 0,
  "metadata": {
    "colab": {
      "name": "Algorithm_step4.ipynb",
      "provenance": [],
      "collapsed_sections": [],
      "authorship_tag": "ABX9TyMeanxJCEb96k2+keYNFdoN",
      "include_colab_link": true
    },
    "kernelspec": {
      "name": "python3",
      "display_name": "Python 3"
    },
    "language_info": {
      "name": "python"
    }
  },
  "cells": [
    {
      "cell_type": "markdown",
      "metadata": {
        "id": "view-in-github",
        "colab_type": "text"
      },
      "source": [
        "<a href=\"https://colab.research.google.com/github/owl-d/Altorithm/blob/main/Algorithm_step4.ipynb\" target=\"_parent\"><img src=\"https://colab.research.google.com/assets/colab-badge.svg\" alt=\"Open In Colab\"/></a>"
      ]
    },
    {
      "cell_type": "markdown",
      "metadata": {
        "id": "Orl8mysj4Z0g"
      },
      "source": [
        "While문"
      ]
    },
    {
      "cell_type": "code",
      "metadata": {
        "id": "4zxFUgO_4XHN"
      },
      "source": [
        "#10952 : A + B\n",
        "#각 테스트 케이스는 한 줄로 이루어져 있으며, 각 줄에 A와 B가 주어진다. (0 < A, B < 10)\n",
        "#입력의 마지막에는 0 두 개가 들어온다.\n",
        "\n",
        "import sys\n",
        "\n",
        "while(1):\n",
        "  a, b = map(int, sys.stdin.readline().split())\n",
        "  if (a!=0) & (b!=0):\n",
        "    print(a+b)\n",
        "  else:\n",
        "    break"
      ],
      "execution_count": null,
      "outputs": []
    },
    {
      "cell_type": "code",
      "metadata": {
        "id": "1qptPliUlU8W"
      },
      "source": [
        "#10951 : A + B : EOF\n",
        "#입력은 여러 개의 테스트 케이스로 이루어져 있다.\n",
        "\n",
        "import sys\n",
        "\n",
        "while(1):\n",
        "  try:\n",
        "    a, b = map(int, sys.stdin.readline().split())\n",
        "  except:\n",
        "    break\n",
        "  print(a+b)"
      ],
      "execution_count": null,
      "outputs": []
    },
    {
      "cell_type": "code",
      "metadata": {
        "colab": {
          "base_uri": "https://localhost:8080/"
        },
        "id": "j_h3bljunGeN",
        "outputId": "a6806d7e-a576-4bcd-bfe6-2b71812cb96f"
      },
      "source": [
        "#1110 : 더하기 사이클\n",
        "#26부터 시작한다. 2+6 = 8이다. 새로운 수는 68이다. 6+8 = 14이다. 새로운 수는 84이다. 8+4 = 12이다. 새로운 수는 42이다. 4+2 = 6이다. 새로운 수는 26이다.\n",
        "#위의 예는 4번만에 원래 수로 돌아올 수 있다. 따라서 26의 사이클의 길이는 4이다.\n",
        "#N이 주어졌을 때, N의 사이클의 길이를 구하는 프로그램을 작성하시오.\n",
        "\n",
        "n = int(input())\n",
        "new = n\n",
        "a = n // 10\n",
        "b = n % 10\n",
        "circle = 0\n",
        "\n",
        "while True:\n",
        "  new = b*10 + ((a+b)%10)\n",
        "\n",
        "  a = new // 10\n",
        "  b = new % 10\n",
        "\n",
        "  circle += 1\n",
        "\n",
        "  if a*10 + b == n: break\n",
        "\n",
        "print(circle)"
      ],
      "execution_count": null,
      "outputs": [
        {
          "output_type": "stream",
          "text": [
            "26\n",
            "4\n"
          ],
          "name": "stdout"
        }
      ]
    }
  ]
}