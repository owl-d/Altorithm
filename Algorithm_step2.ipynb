{
  "nbformat": 4,
  "nbformat_minor": 0,
  "metadata": {
    "colab": {
      "name": "Algorithm_step2.ipynb",
      "provenance": [],
      "authorship_tag": "ABX9TyPqlb5xRpvbhhKKW6dYv/z8",
      "include_colab_link": true
    },
    "kernelspec": {
      "name": "python3",
      "display_name": "Python 3"
    },
    "language_info": {
      "name": "python"
    }
  },
  "cells": [
    {
      "cell_type": "markdown",
      "metadata": {
        "id": "view-in-github",
        "colab_type": "text"
      },
      "source": [
        "<a href=\"https://colab.research.google.com/github/owl-d/Altorithm/blob/main/Algorithm_step2.ipynb\" target=\"_parent\"><img src=\"https://colab.research.google.com/assets/colab-badge.svg\" alt=\"Open In Colab\"/></a>"
      ]
    },
    {
      "cell_type": "markdown",
      "metadata": {
        "id": "ALPEuUw68JcI"
      },
      "source": [
        "step2 : if문"
      ]
    },
    {
      "cell_type": "code",
      "metadata": {
        "id": "m2WJDYcqkb2G",
        "colab": {
          "base_uri": "https://localhost:8080/"
        },
        "outputId": "27e99cea-cbd9-4f2c-bea8-e15faca56138"
      },
      "source": [
        "#1330 : 두 수 비교하기\n",
        "a, b = map(int, input().split())\n",
        "\n",
        "if (a>b) :\n",
        "  print('>')\n",
        "elif (a<b) :\n",
        "  print('<')\n",
        "else :\n",
        "  print('==')"
      ],
      "execution_count": 1,
      "outputs": [
        {
          "output_type": "stream",
          "text": [
            "5 5\n",
            "==\n"
          ],
          "name": "stdout"
        }
      ]
    },
    {
      "cell_type": "code",
      "metadata": {
        "colab": {
          "base_uri": "https://localhost:8080/"
        },
        "id": "PRPvUkaP88gZ",
        "outputId": "2f843889-5f74-49b1-ab53-9ef29070fdb0"
      },
      "source": [
        "#9498 : 시험 성적\n",
        "#시험 점수를 입력받아 90 ~ 100점은 A, 80 ~ 89점은 B, 70 ~ 79점은 C, 60 ~ 69점은 D, 나머지 점수는 F를 출력하는 프로그램을 작성하시오.\n",
        "\n",
        "a = int(input())\n",
        "if (90<=a<=100) :\n",
        "  print('A')\n",
        "elif (80<=a<90) :\n",
        "  print('B')\n",
        "elif (70<=a<80) :\n",
        "  print('C')\n",
        "elif (60<=a<70) :\n",
        "  print('D')\n",
        "else :\n",
        "  print('F')"
      ],
      "execution_count": 2,
      "outputs": [
        {
          "output_type": "stream",
          "text": [
            "70\n",
            "C\n"
          ],
          "name": "stdout"
        }
      ]
    },
    {
      "cell_type": "code",
      "metadata": {
        "colab": {
          "base_uri": "https://localhost:8080/"
        },
        "id": "CEiFDBry907I",
        "outputId": "39989bde-52c0-4ba5-b75c-fce52cc3b849"
      },
      "source": [
        "#2753 : 윤년\n",
        "#연도가 주어졌을 때, 윤년이면 1, 아니면 0을 출력하는 프로그램을 작성하시오.\n",
        "#윤년은 연도가 4의 배수이면서, 100의 배수가 아닐 때 또는 400의 배수일 때이다.\n",
        "#예를 들어, 2012년은 4의 배수이면서 100의 배수가 아니라서 윤년이다. 1900년은 100의 배수이고 400의 배수는 아니기 때문에 윤년이 아니다. 하지만, 2000년은 400의 배수이기 때문에 윤년이다.\n",
        "\n",
        "year = int(input())\n",
        "if (year%4==0) and (year%100!=0) or (year%400==0):\n",
        "  print('1')\n",
        "else :\n",
        "  print('0')"
      ],
      "execution_count": 3,
      "outputs": [
        {
          "output_type": "stream",
          "text": [
            "1999\n",
            "0\n"
          ],
          "name": "stdout"
        }
      ]
    },
    {
      "cell_type": "code",
      "metadata": {
        "colab": {
          "base_uri": "https://localhost:8080/"
        },
        "id": "Bd504Sso_GJX",
        "outputId": "928df558-b105-42d0-918c-a8d65d683fb3"
      },
      "source": [
        "#14681 : 사분면 고르기\n",
        "\n",
        "x = int(input())\n",
        "y = int(input())\n",
        "\n",
        "if (x>0) & (y>0) :\n",
        "  print('1')\n",
        "elif (x>0) & (y<0) :\n",
        "  print('4')\n",
        "elif (x<0) & (y>0) :\n",
        "  print('2')\n",
        "elif (x<0) & (y<0) :\n",
        "  print('3')  "
      ],
      "execution_count": 4,
      "outputs": [
        {
          "output_type": "stream",
          "text": [
            "9\n",
            "-13\n",
            "4\n"
          ],
          "name": "stdout"
        }
      ]
    },
    {
      "cell_type": "code",
      "metadata": {
        "colab": {
          "base_uri": "https://localhost:8080/"
        },
        "id": "f6YT_aQIAJuH",
        "outputId": "89c53923-052f-4763-d27f-12a1abb5f14c"
      },
      "source": [
        "#2884 : 알람 시계\n",
        "#45분 빠른 시간 구하기\n",
        "\n",
        "h, m = map(int, input().split())\n",
        "\n",
        "if m>=45 :\n",
        "  m -= 45\n",
        "elif h>0 :\n",
        "  h -= 1\n",
        "  m = 60-(45-m)\n",
        "else :\n",
        "  h = 23\n",
        "  m = 60-(45-m)\n",
        "  \n",
        "print(h, m)"
      ],
      "execution_count": 5,
      "outputs": [
        {
          "output_type": "stream",
          "text": [
            "1 25\n",
            "0 40\n"
          ],
          "name": "stdout"
        }
      ]
    }
  ]
}