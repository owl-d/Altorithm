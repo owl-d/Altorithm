{
  "nbformat": 4,
  "nbformat_minor": 0,
  "metadata": {
    "colab": {
      "name": "Algorithm_step7.ipynb",
      "provenance": [],
      "collapsed_sections": [],
      "authorship_tag": "ABX9TyOfl47ARJl/9Ezld780vKvi",
      "include_colab_link": true
    },
    "kernelspec": {
      "name": "python3",
      "display_name": "Python 3"
    },
    "language_info": {
      "name": "python"
    }
  },
  "cells": [
    {
      "cell_type": "markdown",
      "metadata": {
        "id": "view-in-github",
        "colab_type": "text"
      },
      "source": [
        "<a href=\"https://colab.research.google.com/github/owl-d/Altorithm/blob/main/Algorithm_step7.ipynb\" target=\"_parent\"><img src=\"https://colab.research.google.com/assets/colab-badge.svg\" alt=\"Open In Colab\"/></a>"
      ]
    },
    {
      "cell_type": "markdown",
      "metadata": {
        "id": "Qm49DVixRTuB"
      },
      "source": [
        "7단계 : 문자열"
      ]
    },
    {
      "cell_type": "code",
      "metadata": {
        "colab": {
          "base_uri": "https://localhost:8080/"
        },
        "id": "6JIXHxt1xGUT",
        "outputId": "6ad03701-ae7f-4477-8012-9aa382571e42"
      },
      "source": [
        "#11654 : 아스키 코드\n",
        "\n",
        "n = ord(input())\n",
        "print(n)"
      ],
      "execution_count": null,
      "outputs": [
        {
          "output_type": "stream",
          "text": [
            "0\n",
            "48\n"
          ],
          "name": "stdout"
        }
      ]
    },
    {
      "cell_type": "code",
      "metadata": {
        "colab": {
          "base_uri": "https://localhost:8080/"
        },
        "id": "sfGmlCL8SS6t",
        "outputId": "0994774d-a6d5-40a1-ec9a-f3877ac03493"
      },
      "source": [
        "#11720 : 숫자의 합\n",
        "\n",
        "a = int(input())\n",
        "b = list(input())\n",
        "sum=0\n",
        "for i in range(a):\n",
        "  sum += int(b[i])\n",
        "print(sum)"
      ],
      "execution_count": null,
      "outputs": [
        {
          "output_type": "stream",
          "text": [
            "25\n",
            "7000000000000000000000000\n",
            "7\n"
          ],
          "name": "stdout"
        }
      ]
    },
    {
      "cell_type": "code",
      "metadata": {
        "colab": {
          "base_uri": "https://localhost:8080/"
        },
        "id": "Z0wTnlxlZJd4",
        "outputId": "5327f8f7-3c63-4a39-8357-6c0b7436487c"
      },
      "source": [
        "#10809 : 알파벳 찾기\n",
        "#알파벳 소문자로만 이루어진 단어 S가 주어진다. 각각의 알파벳에 대해서, 단어에 포함되어 있는 경우에는 처음 등장하는 위치를, 포함되어 있지 않은 경우에는 -1을 출력하는 프로그램을 작성하시오.\n",
        "\n",
        "a = list(input())\n",
        "b = []\n",
        "for i in range(26):\n",
        "  b.append(-1)\n",
        "\n",
        "for i in range(len(a)):\n",
        "  if b[ord(a[i])-97] == -1 :\n",
        "    b[ord(a[i])-97] = i\n",
        "\n",
        "for i in b:\n",
        "  print(i, end=' ')"
      ],
      "execution_count": null,
      "outputs": [
        {
          "output_type": "stream",
          "text": [
            "baekjoon\n",
            "1 0 -1 -1 2 -1 -1 -1 -1 4 3 -1 -1 7 5 -1 -1 -1 -1 -1 -1 -1 -1 -1 -1 -1 "
          ],
          "name": "stdout"
        }
      ]
    },
    {
      "cell_type": "code",
      "metadata": {
        "colab": {
          "base_uri": "https://localhost:8080/"
        },
        "id": "CQ-6ONWEiASA",
        "outputId": "228cfb9b-bc1b-407b-c8e9-c5a08ecb751b"
      },
      "source": [
        "#2675 : 문자열 반복\n",
        "#n개의 test set에 대해 숫자 R과 문자열 S를 입력받은 후에, 각 문자를 R번 반복해 새 문자열 P를 만든 후 출력하는 프로그램을 작성하시오.\n",
        "#즉, 첫 번째 문자를 R번 반복하고, 두 번째 문자를 R번 반복하는 식으로 P를 만들면 된다. S에는 QR Code \"alphanumeric\" 문자만 들어있다.\n",
        "\n",
        "n = int(input())\n",
        "\n",
        "for k in range(n):\n",
        "  r, x = input().split()\n",
        "  s = list(x)\n",
        "\n",
        "  for i in s:\n",
        "    for j in range(int(r)):\n",
        "      print(i, end='')\n",
        "  print('')"
      ],
      "execution_count": null,
      "outputs": [
        {
          "output_type": "stream",
          "text": [
            "2\n",
            "2 ABC\n",
            "AABBCC\n",
            "3 /HTTP\n",
            "///HHHTTTTTTPPP\n"
          ],
          "name": "stdout"
        }
      ]
    },
    {
      "cell_type": "code",
      "metadata": {
        "colab": {
          "base_uri": "https://localhost:8080/"
        },
        "id": "piB6dNDZmAYE",
        "outputId": "53db5a37-44c8-4d4b-c0f1-64e81558db13"
      },
      "source": [
        "#1157 : 단어 공부\n",
        "#첫째 줄에 이 단어에서 가장 많이 사용된 알파벳을 대문자로 출력한다. 단, 가장 많이 사용된 알파벳이 여러 개 존재하는 경우에는 ?를 출력한다.\n",
        "\n",
        "s = list(input())\n",
        "\n",
        "b = []\n",
        "for i in range(26):\n",
        "  b.append(0)\n",
        "\n",
        "for i in s:\n",
        "  if ord(i) < 91: #대문자 65 ~ 90\n",
        "    b[ord(i)-65] += 1\n",
        "  else : #소문자 97 ~ 122\n",
        "    b[ord(i)-97] += 1\n",
        "\n",
        "max=0\n",
        "for i in range(26):\n",
        "  if max < b[i]:\n",
        "    max = b[i]\n",
        "\n",
        "c = 0\n",
        "for i in range(26):\n",
        "  if max == b[i]:\n",
        "    max_v = i\n",
        "    c += 1\n",
        "\n",
        "if c == 1:\n",
        "  print(chr(max_v+65))\n",
        "else :\n",
        "  print('?')"
      ],
      "execution_count": null,
      "outputs": [
        {
          "output_type": "stream",
          "text": [
            "zZ\n",
            "Z\n"
          ],
          "name": "stdout"
        }
      ]
    },
    {
      "cell_type": "code",
      "metadata": {
        "id": "d2dF1iWRwKON"
      },
      "source": [
        "#1152 : 단어의 개수\n",
        "\n",
        "import sys\n",
        "\n",
        "a = sys.stdin.readline()\n",
        "a = a.split()\n",
        "print(len(a))"
      ],
      "execution_count": null,
      "outputs": []
    },
    {
      "cell_type": "code",
      "metadata": {
        "id": "gEilfgp1xCCO"
      },
      "source": [
        "#2098 : 상수\n",
        "\n",
        "import sys\n",
        "\n",
        "def change(c):\n",
        "  temp = c[0]\n",
        "  c[0] = c[2]\n",
        "  c[2] = temp\n",
        "  return c\n",
        "  \n",
        "\n",
        "a,b = map(list, sys.stdin.readline().split())\n",
        "\n",
        "a = change(a)\n",
        "b = change(b)\n",
        "\n",
        "if a>b :\n",
        "  max = a\n",
        "else:\n",
        "  max = b\n",
        "\n",
        "for i in max:\n",
        "  print(i, end='')"
      ],
      "execution_count": null,
      "outputs": []
    },
    {
      "cell_type": "code",
      "metadata": {
        "colab": {
          "base_uri": "https://localhost:8080/"
        },
        "id": "t9KcaIh93JW2",
        "outputId": "18a704f1-d483-4027-df9b-ffbdfe7159eb"
      },
      "source": [
        "#5622 : 다이얼\n",
        "\n",
        "s = list(input())\n",
        "\n",
        "sum=0\n",
        "for i in s:\n",
        "  j = ord(i)\n",
        "  if j<=82:\n",
        "    n = (j-65)//3 + 2\n",
        "  elif j==83:\n",
        "    n = 7\n",
        "  elif 84<=j<=86:\n",
        "    n = 8\n",
        "  else :\n",
        "    n = 9\n",
        "  sum += n+1\n",
        "\n",
        "print(sum)"
      ],
      "execution_count": null,
      "outputs": [
        {
          "output_type": "stream",
          "text": [
            "UNUCIC\n",
            "36\n"
          ],
          "name": "stdout"
        }
      ]
    },
    {
      "cell_type": "code",
      "metadata": {
        "colab": {
          "base_uri": "https://localhost:8080/"
        },
        "id": "D3hA9j1yICQg",
        "outputId": "08924b4b-5303-4329-a6dd-af2e3cc3f301"
      },
      "source": [
        "#2941 -1 : 크로아티아 알파벳\n",
        "#ddz=z=의 경우 dz= 사라지면 d+z= 남아 오류 -> #도출해낸 부분은 빼며 공백 하나 넣어 구분\n",
        "\n",
        "#시간 초과\n",
        "\n",
        "def fi(s, a, b):\n",
        "  d = s.find(a)\n",
        "  if d != -1:\n",
        "    b += 1\n",
        "    s = s[:d] + ' ' + s[d+len(a):]\n",
        "    if (fi(s,a,b) != b, s) :\n",
        "      b,s = fi(s,a,b)\n",
        "    \n",
        "  return b, s\n",
        "\n",
        "s = input()\n",
        "sum = 0\n",
        "\n",
        "c, d = fi(s, 'c=', 0)\n",
        "c, d = fi(d, 'c-', c)\n",
        "c, d = fi(d, 'dz=', c)\n",
        "c, d = fi(d, 'd-', c)\n",
        "c, d = fi(d, 'lj', c)\n",
        "c, d = fi(d, 'nj', c)\n",
        "c, d = fi(d, 's=', c)\n",
        "c, d = fi(d, 'z=', c)\n",
        "\n",
        "e = d.split()\n",
        "f = 0\n",
        "\n",
        "for i in e:\n",
        "  f += len(i)\n",
        "\n",
        "print(c + f)"
      ],
      "execution_count": null,
      "outputs": [
        {
          "output_type": "stream",
          "text": [
            "c=c=f\n",
            "3\n"
          ],
          "name": "stdout"
        }
      ]
    },
    {
      "cell_type": "code",
      "metadata": {
        "colab": {
          "base_uri": "https://localhost:8080/"
        },
        "id": "gE59mtG8R4KC",
        "outputId": "26a0f852-e181-467f-8a58-6d4eb42cb19d"
      },
      "source": [
        "#2941 -2 : 크로아티아 알파벳\n",
        "\n",
        "s = input()\n",
        "a = ['c=', 'c-', 'dz=', 'd-', 'lj', 'nj', 's=', 'z=']\n",
        "\n",
        "for i in a:\n",
        "  s = s.replace(i, '*')\n",
        "\n",
        "print(len(s))"
      ],
      "execution_count": null,
      "outputs": [
        {
          "output_type": "stream",
          "text": [
            "dz=ak\n",
            "3\n"
          ],
          "name": "stdout"
        }
      ]
    },
    {
      "cell_type": "code",
      "metadata": {
        "id": "WCy0Y9lQU1ro"
      },
      "source": [
        "#1316 : 그룹 단어 체커\n",
        "\n",
        "import sys\n",
        "\n",
        "n = int(input()) #예시의 수\n",
        "data = [sys.stdin.readline().rstrip() for i in range(n)]\n",
        "\n",
        "group = 0 #그룹단어의 개수\n",
        "\n",
        "for i in data:\n",
        "  c = True #그룹단어인가\n",
        "  a = [False for i in range(26)]\n",
        "  old = -1\n",
        "  s = list(i)\n",
        "  for j in s:\n",
        "    new = ord(j) - 97\n",
        "    if (a[new] == False):\n",
        "      a[new] = True\n",
        "    elif (a[new] == True):\n",
        "      if old!=new:\n",
        "        c = False #그룹단어 아님\n",
        "    old = new\n",
        "  if c == True:\n",
        "    group += 1\n",
        "\n",
        "print(group)"
      ],
      "execution_count": null,
      "outputs": []
    },
    {
      "cell_type": "code",
      "metadata": {
        "id": "GKpASzbuf7Vk"
      },
      "source": [
        "##1316 : 모범 답안 1\n",
        "\n",
        "n = int(input())\n",
        "\n",
        "group_word = 0\n",
        "for _ in range(n):\n",
        "    word = input()\n",
        "    error = 0\n",
        "    for index in range(len(word)-1):  # 인덱스 범위 생성 : 0부터 단어개수 -1까지 \n",
        "        if word[index] != word[index+1]:  # 연달은 두 문자가 다른 때,\n",
        "            new_word = word[index+1:]  # 현재글자 이후 문자열을 새로운 단어로 생성\n",
        "            if new_word.count(word[index]) > 0:  # 남은 문자열에서 현재글자가 있있다면\n",
        "                error += 1  # error에 1씩 증가.\n",
        "    if error == 0:  \n",
        "        group_word += 1  # error가 0이면 그룹단어\n",
        "print(group_word)"
      ],
      "execution_count": null,
      "outputs": []
    },
    {
      "cell_type": "code",
      "metadata": {
        "id": "1Fiwbd9Sg0ZP"
      },
      "source": [
        "##1316 : 모범 답안 2\n",
        "#입력된 문자열을 검사하는데 특정 문자 다음에 다른 문자가 나올 경우 문자열에서 그 글자 다음부터 끝까지 검사하여 똑같은 문자가 있는지 검사하고, 이상 없으면 그룹 단어로 카운트했다.\n",
        "N=int(input())\n",
        "\n",
        "answer=0\n",
        "\n",
        "for i in range(N):\n",
        "    word = input()\n",
        "    for j in range(len(word)):\n",
        "        if j!=len(word)-1:\n",
        "            if word[j]==word[j+1]:\n",
        "                pass\n",
        "            elif word[j] in word[j+1:]:\n",
        "                break\n",
        "        else:\n",
        "            answer+=1\n",
        "print(answer)"
      ],
      "execution_count": null,
      "outputs": []
    }
  ]
}